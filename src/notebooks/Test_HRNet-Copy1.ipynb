{
 "cells": [
  {
   "cell_type": "markdown",
   "metadata": {},
   "source": [
    "# Test Pose Estimation using Faster-RCNN + HRNet"
   ]
  },
  {
   "cell_type": "code",
   "execution_count": 1,
   "metadata": {},
   "outputs": [],
   "source": [
    "import os\n",
    "import sys\n",
    "import json\n",
    "import collections\n",
    "from tqdm import tqdm\n",
    "\n",
    "import numpy as np\n",
    "import cv2\n",
    "import matplotlib.pyplot as plt\n",
    "import torch\n",
    "from torch.nn import DataParallel\n",
    "import torchvision\n",
    "import torchvision.transforms as transforms\n",
    "import torch.nn.functional as F\n",
    "from pycocotools.coco import COCO\n",
    "from pycocotools.cocoeval import COCOeval\n",
    "\n",
    "sys.path.append(\"..\")\n",
    "\n",
    "from data import StyledCoco, hrnet_coco\n",
    "import models\n",
    "from models.utils.hrnet_config import _C as cfg\n",
    "from models.utils.hrnet_config import update_config\n",
    "from models.utils.config import opt\n",
    "from CONFIG import CONFIG\n",
    "import CONSTANTS\n",
    "import data\n",
    "from data.custom_transforms import Normalize\n",
    "import lib.arguments as arguments\n",
    "import lib.utils as utils\n",
    "import lib.loss as loss\n",
    "import lib.inference as inference\n",
    "import lib.metrics as metrics\n",
    "import lib.pose_parsing as pose_parsing \n",
    "import lib.visualizations as visualizations\n"
   ]
  },
  {
   "cell_type": "code",
   "execution_count": 2,
   "metadata": {},
   "outputs": [],
   "source": [
    "%reload_ext autoreload\n",
    "%autoreload 2"
   ]
  },
  {
   "cell_type": "code",
   "execution_count": 3,
   "metadata": {},
   "outputs": [],
   "source": [
    "exp_name = os.path.join(\"notebook_tests\", \"hrnet_notebook\")\n",
    "test_exp = os.path.join(CONFIG[\"paths\"][\"experiments_path\"], exp_name)\n",
    "data_path = CONFIG[\"paths\"][\"data_path\"]\n",
    "original_imgs_path = os.path.join(data_path, \"original_images\", \"val2017\")\n",
    "labels_path = os.path.join(data_path, \"annotations\")\n",
    "labels_file = os.path.join(labels_path, \"person_keypoints_validation.json\")\n",
    "preds_file = os.path.join(test_exp, CONFIG[\"paths\"][\"submission\"])"
   ]
  },
  {
   "cell_type": "code",
   "execution_count": 4,
   "metadata": {},
   "outputs": [],
   "source": [
    "COCO_KEYPOINT_INDEXES = {\n",
    "    0: 'nose',\n",
    "    1: 'left_eye',\n",
    "    2: 'right_eye',\n",
    "    3: 'left_ear',\n",
    "    4: 'right_ear',\n",
    "    5: 'left_shoulder',\n",
    "    6: 'right_shoulder',\n",
    "    7: 'left_elbow',\n",
    "    8: 'right_elbow',\n",
    "    9: 'left_wrist',\n",
    "    10: 'right_wrist',\n",
    "    11: 'left_hip',\n",
    "    12: 'right_hip',\n",
    "    13: 'left_knee',\n",
    "    14: 'right_knee',\n",
    "    15: 'left_ankle',\n",
    "    16: 'right_ankle'\n",
    "}"
   ]
  },
  {
   "cell_type": "markdown",
   "metadata": {},
   "source": [
    "# Dataset"
   ]
  },
  {
   "cell_type": "code",
   "execution_count": 5,
   "metadata": {},
   "outputs": [],
   "source": [
    "image_size = 600\n",
    "exp_data = utils.load_experiment_parameters(test_exp)\n",
    "exp_data[\"training\"][\"batch_size\"] = 4\n",
    "exp_data[\"dataset\"][\"dataset_name\"] = \"coco\"\n",
    "exp_data[\"dataset\"][\"image_size\"] = image_size\n",
    "exp_data[\"model\"][\"model_name\"] = \"HRNet\""
   ]
  },
  {
   "cell_type": "code",
   "execution_count": 6,
   "metadata": {},
   "outputs": [],
   "source": [
    "cfg = update_config()"
   ]
  },
  {
   "cell_type": "code",
   "execution_count": 7,
   "metadata": {},
   "outputs": [],
   "source": [
    "normalize = transforms.Normalize(\n",
    "    mean=[0.485, 0.456, 0.406], std=[0.229, 0.224, 0.225]\n",
    ")\n",
    "# normalize = Normalize(\n",
    "#     mean=[128, 128, 128], std=[256, 256, 256]\n",
    "# )"
   ]
  },
  {
   "cell_type": "code",
   "execution_count": 8,
   "metadata": {},
   "outputs": [
    {
     "name": "stdout",
     "output_type": "stream",
     "text": [
      "loading annotations into memory...\n",
      "Done (t=0.46s)\n",
      "creating index...\n",
      "index created!\n"
     ]
    }
   ],
   "source": [
    "valid_dataset = data.HRNetCoco(root=data_path, img_path=original_imgs_path,\n",
    "                               labels_path=labels_file, is_train=False,\n",
    "                               transform=transforms.Compose([\n",
    "                                   transforms.ToTensor(),\n",
    "                                   normalize,\n",
    "                               ]))"
   ]
  },
  {
   "cell_type": "code",
   "execution_count": 9,
   "metadata": {},
   "outputs": [],
   "source": [
    "valid_loader = torch.utils.data.DataLoader(\n",
    "                    valid_dataset,\n",
    "                    batch_size=1,\n",
    "                    shuffle=False,\n",
    "                    num_workers=4,\n",
    "                    pin_memory=True\n",
    "                )"
   ]
  },
  {
   "cell_type": "code",
   "execution_count": 10,
   "metadata": {},
   "outputs": [],
   "source": [
    "img, target, target_weight, meta = next(iter(valid_loader))"
   ]
  },
  {
   "cell_type": "code",
   "execution_count": 11,
   "metadata": {},
   "outputs": [
    {
     "name": "stdout",
     "output_type": "stream",
     "text": [
      "tensor([[[ 88.6963,  43.4280,   0.0000],\n",
      "         [ 89.4367,  40.4665,   0.0000],\n",
      "         [  0.0000,   0.0000,   0.0000],\n",
      "         [ 96.1000,  46.3895,   0.0000],\n",
      "         [  0.0000,   0.0000,   0.0000],\n",
      "         [ 79.0715,  68.6004,   0.0000],\n",
      "         [119.0513,  72.3023,   0.0000],\n",
      "         [ 61.3028,  93.7729,   0.0000],\n",
      "         [130.1568, 101.9169,   0.0000],\n",
      "         [  0.0000,   0.0000,   0.0000],\n",
      "         [  0.0000,   0.0000,   0.0000],\n",
      "         [ 78.3312, 132.2719,   0.0000],\n",
      "         [107.2054, 133.0123,   0.0000],\n",
      "         [ 72.4082, 176.6939,   0.0000],\n",
      "         [107.2054, 175.9535,   0.0000],\n",
      "         [ 65.7450, 220.3755,   0.0000],\n",
      "         [112.3880, 221.1158,   0.0000]]], dtype=torch.float64)\n",
      "tensor([[442.8650, 208.2300]])\n",
      "tensor([[1.2967, 1.7289]])\n",
      "dict_keys(['image', 'original_image', 'filename', 'imgnum', 'joints', 'joints_vis', 'center', 'scale', 'rotation', 'score'])\n"
     ]
    }
   ],
   "source": [
    "print(meta[\"joints\"])\n",
    "print(meta[\"center\"])\n",
    "print(meta[\"scale\"])\n",
    "print(meta.keys())"
   ]
  },
  {
   "cell_type": "code",
   "execution_count": 12,
   "metadata": {},
   "outputs": [
    {
     "name": "stderr",
     "output_type": "stream",
     "text": [
      "Clipping input data to the valid range for imshow with RGB data ([0..1] for floats or [0..255] for integers).\n"
     ]
    },
    {
     "data": {
      "image/png": "[encoded data removed]",
      "text/plain": [
       "<Figure size 576x432 with 1 Axes>"
      ]
     },
     "metadata": {
      "needs_background": "light"
     },
     "output_type": "display_data"
    }
   ],
   "source": [
    "fig, ax = plt.subplots(1,1)\n",
    "fig.set_size_inches(8,6)\n",
    "ax.imshow(img[0,:].numpy().transpose(1,2,0))\n",
    "plt.show()"
   ]
  },
  {
   "cell_type": "code",
   "execution_count": 13,
   "metadata": {},
   "outputs": [
    {
     "name": "stdout",
     "output_type": "stream",
     "text": [
      "tensor([[0.6392, 0.6049, 0.6221, 0.6049, 0.6392],\n",
      "        [0.5193, 0.5022, 0.4679, 0.5536, 0.5707],\n",
      "        [0.5364, 0.5707, 0.3823, 0.5193, 0.5536],\n",
      "        [0.6049, 0.6221, 0.5536, 0.5364, 0.5707],\n",
      "        [0.6392, 0.7077, 0.6392, 0.6049, 0.6049]])\n"
     ]
    }
   ],
   "source": [
    "print(img[0,0,:5,:5])"
   ]
  },
  {
   "cell_type": "markdown",
   "metadata": {},
   "source": [
    "# Model"
   ]
  },
  {
   "cell_type": "code",
   "execution_count": 14,
   "metadata": {},
   "outputs": [
    {
     "data": {
      "text/plain": [
       "<All keys matched successfully>"
      ]
     },
     "execution_count": 14,
     "metadata": {},
     "output_type": "execute_result"
    }
   ],
   "source": [
    "# HRNet Model\n",
    "hrnet = models.PoseHighResolutionNet(is_train=False)\n",
    "pretrained_path = os.path.join(CONFIG[\"paths\"][\"pretrained_path\"], \"HRnet\", \"pose_hrnet_w32_256x192.pth\")\n",
    "hrnet.load_state_dict(torch.load(pretrained_path))"
   ]
  },
  {
   "cell_type": "markdown",
   "metadata": {},
   "source": [
    "# Inference"
   ]
  },
  {
   "cell_type": "code",
   "execution_count": 15,
   "metadata": {},
   "outputs": [],
   "source": [
    "device = \"cpu\"\n",
    "output = inference.forward_pass(model=hrnet, img=img,\n",
    "                                model_name=\"HRNet\",\n",
    "                                device=device)"
   ]
  },
  {
   "cell_type": "code",
   "execution_count": 16,
   "metadata": {},
   "outputs": [
    {
     "name": "stdout",
     "output_type": "stream",
     "text": [
      "Loss: 0.000224\n",
      "Accuracy: 0.923077\n"
     ]
    }
   ],
   "source": [
    "loss_function = loss.PersonMSELoss()\n",
    "cur_loss = loss_function(output, target, target_weight).item()\n",
    "_, avg_acc, cnt, pred = metrics.accuracy(output.detach().numpy(),\n",
    "                                         target.numpy())\n",
    "print(f\"Loss: {round(cur_loss, 6)}\")\n",
    "print(f\"Accuracy: {round(avg_acc,6)}\")"
   ]
  },
  {
   "cell_type": "code",
   "execution_count": 23,
   "metadata": {},
   "outputs": [
    {
     "name": "stdout",
     "output_type": "stream",
     "text": [
      "Centers: [[442.865 208.23 ]]\n",
      "Scales: [[1.2966563 1.728875 ]]\n"
     ]
    }
   ],
   "source": [
    "centers = meta[\"center\"].numpy()\n",
    "scales = meta[\"scale\"].numpy()\n",
    "score = meta[\"score\"].numpy()\n",
    "\n",
    "print(f\"Centers: {centers}\")\n",
    "print(f\"Scales: {scales}\")"
   ]
  },
  {
   "cell_type": "code",
   "execution_count": 27,
   "metadata": {},
   "outputs": [
    {
     "name": "stdout",
     "output_type": "stream",
     "text": [
      "Keypoints:\n",
      "[[430.70883  93.4219 ]\n",
      " [436.11157  90.72053]\n",
      " [433.41022  90.72053]\n",
      " [441.5143   96.12326]\n",
      " [465.8266  101.52599]]\n",
      "Max Vals:\n",
      "[[0.8558458 ]\n",
      " [0.85875034]\n",
      " [0.70309836]\n",
      " [0.86613846]\n",
      " [0.6833181 ]]\n"
     ]
    }
   ],
   "source": [
    "keypoints, max_vals, coords = pose_parsing.get_final_preds_hrnet(output.detach().numpy(), centers, scales)\n",
    "print(\"Keypoints:\")\n",
    "print(keypoints[0,:5,:])\n",
    "print(\"Max Vals:\")\n",
    "print(max_vals[0,:5,:])"
   ]
  },
  {
   "cell_type": "code",
   "execution_count": null,
   "metadata": {},
   "outputs": [],
   "source": []
  },
  {
   "cell_type": "code",
   "execution_count": null,
   "metadata": {},
   "outputs": [],
   "source": []
  },
  {
   "cell_type": "code",
   "execution_count": null,
   "metadata": {},
   "outputs": [],
   "source": []
  },
  {
   "cell_type": "code",
   "execution_count": null,
   "metadata": {},
   "outputs": [],
   "source": []
  },
  {
   "cell_type": "code",
   "execution_count": null,
   "metadata": {},
   "outputs": [],
   "source": []
  }
 ],
 "metadata": {
  "kernelspec": {
   "display_name": "Python 3",
   "language": "python",
   "name": "python3"
  },
  "language_info": {
   "codemirror_mode": {
    "name": "ipython",
    "version": 3
   },
   "file_extension": ".py",
   "mimetype": "text/x-python",
   "name": "python",
   "nbconvert_exporter": "python",
   "pygments_lexer": "ipython3",
   "version": "3.7.4"
  }
 },
 "nbformat": 4,
 "nbformat_minor": 4
}
