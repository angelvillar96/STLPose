{
 "cells": [
  {
   "cell_type": "markdown",
   "metadata": {},
   "source": [
    "# Perceptual Losses for styled coco dataset"
   ]
  },
  {
   "cell_type": "markdown",
   "metadata": {},
   "source": [
    "In this notebook, we generate the perceptual losses for the coco and styled-coco images in an offline manner, so that later we can load in the dataloder as metas for training the faster-rcnn"
   ]
  },
  {
   "cell_type": "code",
   "execution_count": 46,
   "metadata": {},
   "outputs": [],
   "source": [
    "import os, pdb\n",
    "import sys\n",
    "import json\n",
    "import imageio\n",
    "import tqdm\n",
    "\n",
    "import numpy as np\n",
    "import cv2\n",
    "import matplotlib.pyplot as plt\n",
    "import torch\n",
    "import torchvision\n",
    "\n",
    "sys.path.append(\"..\")\n",
    "\n",
    "from data import StyledCoco\n",
    "from CONFIG import CONFIG\n",
    "from lib.loss import VGGPerceptualLoss"
   ]
  },
  {
   "cell_type": "code",
   "execution_count": 2,
   "metadata": {},
   "outputs": [],
   "source": [
    "%reload_ext autoreload\n",
    "%autoreload 2"
   ]
  },
  {
   "cell_type": "code",
   "execution_count": 4,
   "metadata": {},
   "outputs": [],
   "source": [
    "data_path = CONFIG[\"paths\"][\"data_path\"]\n",
    "coco_data_path = CONFIG[\"paths\"][\"coco_data_path\"]\n",
    "\n",
    "train_images_path = os.path.join(data_path, \"images\", \"train\")\n",
    "train_original_imgs_path = os.path.join(coco_data_path, \"original_images\", \"train2017\")\n",
    "\n",
    "valid_images_path = os.path.join(data_path, \"images\", \"valid\")\n",
    "valid_original_imgs_path = os.path.join(coco_data_path, \"original_images\", \"val2017\")\n",
    "\n",
    "labels_path = os.path.join(data_path, \"annotations\")\n",
    "labels_file = os.path.join(labels_path, \"person_keypoints_train.json\")"
   ]
  },
  {
   "cell_type": "code",
   "execution_count": null,
   "metadata": {},
   "outputs": [],
   "source": [
    "original_list = os.listdir(train_original_imgs_path)\n",
    "original_list = [i for i in original_list if '.ipynb_checkpoints' != i]\n",
    "                                              \n",
    "styled_list = os.listdir(train_images_path)    \n",
    "styled_list = [i for i in styled_list if '.ipynb_checkpoints' != i]"
   ]
  },
  {
   "cell_type": "code",
   "execution_count": 47,
   "metadata": {},
   "outputs": [
    {
     "name": "stderr",
     "output_type": "stream",
     "text": [
      "  0%|          | 0/118287 [00:00<?, ?it/s]"
     ]
    },
    {
     "name": "stdout",
     "output_type": "stream",
     "text": [
      "torch.Size([1, 3, 480, 640]) torch.Size([1, 3, 480, 640])\n",
      "tensor(4.5574, grad_fn=<AddBackward0>)\n"
     ]
    },
    {
     "name": "stderr",
     "output_type": "stream",
     "text": [
      "\n"
     ]
    }
   ],
   "source": [
    "count = 0                                     \n",
    "vgg_perceptual_loss = VGGPerceptualLoss()\n",
    "\n",
    "for o_name in tqdm.tqdm(original_list):            \n",
    "    count += 1                                \n",
    "    if count % 1000 == 0:                     \n",
    "        print ('{} images done'.format(str(count)))\n",
    "        \n",
    "    for i in styled_list:                     \n",
    "        if o_name.split('.')[0] in i:         \n",
    "            s_name = i                        \n",
    "                                              \n",
    "    o_path = os.path.join(train_original_imgs_path, o_name)\n",
    "    s_path = os.path.join(train_images_path, s_name) \n",
    "    \n",
    "    o_image = imageio.imread(o_path)\n",
    "    s_image = imageio.imread(s_path)\n",
    "                                     \n",
    "    #show_images_in_parallel(o_image, s_image)\n",
    "    \n",
    "    o_array = o_image.transpose(2,0,1)/255.0\n",
    "    s_array = s_image.transpose(2,0,1)/255.0\n",
    "    \n",
    "    o_tensor = torch.Tensor(o_array).unsqueeze(0)\n",
    "    s_tensor = torch.Tensor(s_array).unsqueeze(0)\n",
    "    print (o_tensor.shape, s_tensor.shape)\n",
    "    \n",
    "    vgg_loss_value = vgg_perceptual_loss.forward(o_tensor, s_tensor)\n",
    "    print (vgg_loss_value)    \n",
    "    break"
   ]
  },
  {
   "cell_type": "code",
   "execution_count": 19,
   "metadata": {},
   "outputs": [],
   "source": [
    "def show_images_in_parallel(o_image, s_image):\n",
    "    fig, ax = plt.subplots(1,2)\n",
    "    fig.set_size_inches(11,5)\n",
    "\n",
    "    ax[0].imshow(s_image)\n",
    "    ax[0].set_title(f\"Styled Image {s_name}\")\n",
    "    ax[0].set_axis_off()\n",
    "    \n",
    "    ax[1].set_axis_off()\n",
    "    ax[1].imshow(o_image)\n",
    "    ax[1].set_title(f\"Original Image {o_name}\")\n",
    "    plt.tight_layout()"
   ]
  },
  {
   "cell_type": "code",
   "execution_count": 24,
   "metadata": {},
   "outputs": [
    {
     "data": {
      "text/plain": [
       "(480, 640, 3)"
      ]
     },
     "execution_count": 24,
     "metadata": {},
     "output_type": "execute_result"
    }
   ],
   "source": []
  },
  {
   "cell_type": "code",
   "execution_count": 25,
   "metadata": {},
   "outputs": [],
   "source": [
    "temp = o_image.transpose(2,0,1)"
   ]
  },
  {
   "cell_type": "code",
   "execution_count": 30,
   "metadata": {},
   "outputs": [
    {
     "data": {
      "text/plain": [
       "torch.Size([1, 3, 480, 640])"
      ]
     },
     "execution_count": 30,
     "metadata": {},
     "output_type": "execute_result"
    }
   ],
   "source": [
    "import torch\n",
    "torch.Tensor(temp).unsqueeze(0).shape"
   ]
  },
  {
   "cell_type": "code",
   "execution_count": null,
   "metadata": {},
   "outputs": [],
   "source": []
  }
 ],
 "metadata": {
  "kernelspec": {
   "display_name": "Python 3",
   "language": "python",
   "name": "python3"
  },
  "language_info": {
   "codemirror_mode": {
    "name": "ipython",
    "version": 3
   },
   "file_extension": ".py",
   "mimetype": "text/x-python",
   "name": "python",
   "nbconvert_exporter": "python",
   "pygments_lexer": "ipython3",
   "version": "3.7.8"
  }
 },
 "nbformat": 4,
 "nbformat_minor": 4
}
